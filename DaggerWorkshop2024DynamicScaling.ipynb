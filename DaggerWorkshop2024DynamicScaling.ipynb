{
 "cells": [
  {
   "cell_type": "markdown",
   "id": "4ada078d-9e84-41b8-9a19-17ee18353953",
   "metadata": {},
   "source": [
    "# Dynamic scaling of computations with Dagger\n",
    "We run a multithreaded code and show we can dynamically spread it across many processes"
   ]
  },
  {
   "cell_type": "code",
   "execution_count": 1,
   "id": "fad6eb43-1ccd-4381-bd1d-280683334ad0",
   "metadata": {},
   "outputs": [
    {
     "data": {
      "text/plain": [
       "4"
      ]
     },
     "execution_count": 1,
     "metadata": {},
     "output_type": "execute_result"
    }
   ],
   "source": [
    "Threads.nthreads()"
   ]
  },
  {
   "cell_type": "code",
   "execution_count": 4,
   "id": "97cf6b50-8aae-4aec-adc0-45b6b68cae87",
   "metadata": {},
   "outputs": [],
   "source": [
    "using Dagger"
   ]
  },
  {
   "cell_type": "code",
   "execution_count": 5,
   "id": "130942d7-0cb7-42c2-aafb-276097efd5c4",
   "metadata": {},
   "outputs": [],
   "source": [
    "code_file = tempname()*\".jl\" # some location where code is loaded by workers\n",
    "                             # in a production environemnt this would be a package\n",
    "                             # here for simplicity we use a temporary file instead\n",
    "atexit(() -> rm(code_file, force=true))"
   ]
  },
  {
   "cell_type": "code",
   "execution_count": 7,
   "id": "b8ea39ed-fcdb-4f7f-b671-cf1cfedd738e",
   "metadata": {},
   "outputs": [],
   "source": [
    "open(code_file, \"w\") do f\n",
    "    write(f, \"\"\"\n",
    "    using DataFrames, Dagger\n",
    "\n",
    "    function get_info(i)\n",
    "        sleep(0.1)\n",
    "        DataFrame(;i, threadid=Threads.threadid(), procid=isdefined(Main, :Distributed) ? myid() : 0)\n",
    "    end\n",
    "    \"\"\")\n",
    "end;"
   ]
  },
  {
   "cell_type": "code",
   "execution_count": 8,
   "id": "e2a15f89-b26f-4a78-8b6a-0a6d80986721",
   "metadata": {
    "scrolled": true
   },
   "outputs": [
    {
     "name": "stdout",
     "output_type": "stream",
     "text": [
      "perfom_my_comps() = 10×3 DataFrame\n",
      " Row │ i      threadid  procid\n",
      "     │ Int64  Int64     Int64\n",
      "─────┼─────────────────────────\n",
      "   1 │     1         4       0\n",
      "   2 │     2         3       0\n",
      "   3 │     3         1       0\n",
      "   4 │     4         4       0\n",
      "   5 │     5         1       0\n",
      "   6 │     6         4       0\n",
      "   7 │     7         3       0\n",
      "   8 │     8         1       0\n",
      "   9 │     9         3       0\n",
      "  10 │    10         4       0\n"
     ]
    }
   ],
   "source": [
    "include(code_file)\n",
    "\n",
    "function perfom_my_comps()\n",
    "    df = DataFrame()\n",
    "    append!.(Ref(df), fetch.([Dagger.@spawn get_info(i) for i in 1:10]))\n",
    "    df\n",
    "end\n",
    "\n",
    "@show perfom_my_comps();"
   ]
  },
  {
   "cell_type": "markdown",
   "id": "524efa9f-8555-4ee4-a603-86edaede2a7e",
   "metadata": {},
   "source": [
    "#### After having second thoughts we decide to run the code in parallel (perhaps on a cluster)"
   ]
  },
  {
   "cell_type": "code",
   "execution_count": 9,
   "id": "b5976921-ae85-408b-8df5-b491c40cbf5c",
   "metadata": {},
   "outputs": [],
   "source": [
    "using Distributed"
   ]
  },
  {
   "cell_type": "code",
   "execution_count": 10,
   "id": "7106817a-1887-4b13-afac-bbc7a3dba9f7",
   "metadata": {},
   "outputs": [
    {
     "data": {
      "text/plain": [
       "2-element Vector{Int64}:\n",
       " 2\n",
       " 3"
      ]
     },
     "execution_count": 10,
     "metadata": {},
     "output_type": "execute_result"
    }
   ],
   "source": [
    "new_procs_xs = addprocs(2)"
   ]
  },
  {
   "cell_type": "code",
   "execution_count": 11,
   "id": "78b5c8c2-e8fa-40cb-897e-c6c2d29ad4e6",
   "metadata": {},
   "outputs": [],
   "source": [
    "# all workers need to be aware of our code\n",
    "@everywhere include($code_file)"
   ]
  },
  {
   "cell_type": "code",
   "execution_count": 12,
   "id": "63f8e2cb-b9bf-4403-809f-fd3e78ba1859",
   "metadata": {},
   "outputs": [],
   "source": [
    "# Dagger needs to be notified about the new workers\n",
    "Dagger.addprocs!(Dagger.Sch.eager_context(), new_procs_xs);"
   ]
  },
  {
   "cell_type": "code",
   "execution_count": 13,
   "id": "4f6e5689-d29c-4361-9009-bcccb89fa290",
   "metadata": {},
   "outputs": [
    {
     "name": "stdout",
     "output_type": "stream",
     "text": [
      "perfom_my_comps() = 10×3 DataFrame\n",
      " Row │ i      threadid  procid\n",
      "     │ Int64  Int64     Int64\n",
      "─────┼─────────────────────────\n",
      "   1 │     1         4       1\n",
      "   2 │     2         2       2\n",
      "   3 │     3         2       3\n",
      "   4 │     4         4       2\n",
      "   5 │     5         1       3\n",
      "   6 │     6         4       3\n",
      "   7 │     7         3       1\n",
      "   8 │     8         3       3\n",
      "   9 │     9         1       2\n",
      "  10 │    10         3       2\n"
     ]
    }
   ],
   "source": [
    "# without any changes to the code we can now run the same computation on the cluster\n",
    "@show perfom_my_comps();\n"
   ]
  }
 ],
 "metadata": {
  "kernelspec": {
   "display_name": "Julia 1.11.0-rc1",
   "language": "julia",
   "name": "julia-1.11"
  },
  "language_info": {
   "file_extension": ".jl",
   "mimetype": "application/julia",
   "name": "julia",
   "version": "1.11.0"
  }
 },
 "nbformat": 4,
 "nbformat_minor": 5
}
