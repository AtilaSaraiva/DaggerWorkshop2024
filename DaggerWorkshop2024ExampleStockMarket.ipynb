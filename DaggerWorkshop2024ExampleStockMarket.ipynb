{
 "cells": [
  {
   "cell_type": "markdown",
   "id": "4379ed42-7b6f-41a4-8aee-88614ffefb5d",
   "metadata": {},
   "source": [
    "## Scraping stock market prices and distribution fitting using Dagger"
   ]
  },
  {
   "cell_type": "code",
   "execution_count": 1,
   "id": "bf362236-63b0-4744-93fa-e0962c915d1b",
   "metadata": {},
   "outputs": [
    {
     "data": {
      "text/plain": [
       "12"
      ]
     },
     "execution_count": 1,
     "metadata": {},
     "output_type": "execute_result"
    }
   ],
   "source": [
    "Threads.nthreads()"
   ]
  },
  {
   "cell_type": "code",
   "execution_count": 3,
   "id": "67d69ebf-50c1-41c4-a185-bc8ef324f432",
   "metadata": {},
   "outputs": [],
   "source": [
    "using Dagger\n",
    "\n",
    "using Distributions, HypothesisTests, DataFrames\n",
    "using MarketData, Dates, DataFrames, Statistics"
   ]
  },
  {
   "cell_type": "code",
   "execution_count": 4,
   "id": "8ead8062-18f0-4cba-b24a-cb8f366e4968",
   "metadata": {},
   "outputs": [
    {
     "data": {
      "text/plain": [
       "fit_dist"
      ]
     },
     "execution_count": 4,
     "metadata": {},
     "output_type": "execute_result"
    }
   ],
   "source": [
    "\"\"\"\n",
    "    fit_dist(vals, try_dists)\n",
    "\n",
    "This function finds the best distribution for the given values `vals` among the distributions in `try_dists`.\n",
    "\"\"\"\n",
    "function fit_dist(vals,\n",
    "    try_dists = [Exponential, Normal, LogNormal, Laplace, Rayleigh, Uniform])\n",
    "    df = DataFrame(;dist=Any[], δ=Float64[],pvalue=Float64[], fitdist=Any[])\n",
    "    for dist in try_dists\n",
    "        try\n",
    "            fitdist = fit(dist, vals);\n",
    "            ks_test = ExactOneSampleKSTest(vals, fitdist)\n",
    "            append!(df,DataFrame(;dist, δ=ks_test.δ, pvalue=pvalue(ks_test), fitdist))\n",
    "        catch\n",
    "            println(stderr, \"Error fitting $dist\")\n",
    "        end\n",
    "    end\n",
    "    sort!(df, :δ)\n",
    "    dist = df.fitdist[1]\n",
    "end"
   ]
  },
  {
   "cell_type": "code",
   "execution_count": 5,
   "id": "f1f3f332-35c7-4d2e-ac62-d878cb20a2e5",
   "metadata": {},
   "outputs": [
    {
     "data": {
      "text/plain": [
       "get_daily_returnsp1"
      ]
     },
     "execution_count": 5,
     "metadata": {},
     "output_type": "execute_result"
    }
   ],
   "source": [
    "\"\"\"\n",
    "    get_daily_returnsp1(company, months=1)\n",
    "\n",
    "This function gets the daily returns for the given `company` for the last `months` months.\n",
    "The data additionally includes the thread id and process id that was used to execute the computation.\n",
    "\"\"\"\n",
    "function get_daily_returnsp1(company, months=1)\n",
    "    yo = YahooOpt(period1 = DateTime(now()) - Month(months))\n",
    "    dat =  yahoo(company, yo) |> DataFrame;\n",
    "    dat.Close[2:end] ./ dat.Close[1:end-1] .- 1.0 .+ 1.0 # daily returns plus 1\n",
    "end"
   ]
  },
  {
   "cell_type": "code",
   "execution_count": 6,
   "id": "030ebfe9-9eb9-4b9f-a116-d12fd95768ec",
   "metadata": {},
   "outputs": [
    {
     "data": {
      "text/plain": [
       "get_stock_data_dagger"
      ]
     },
     "execution_count": 6,
     "metadata": {},
     "output_type": "execute_result"
    }
   ],
   "source": [
    "\"\"\"\n",
    "    get_stock_data_dagger(companies)\n",
    "\n",
    "Parallize the computations utilizing Dagger.\n",
    "\"\"\"\n",
    "function get_stock_data_dagger(companies)\n",
    "    res = DataFrame()\n",
    "    for company in companies\n",
    "        daily_returnsp1 = Dagger.@spawn get_daily_returnsp1(company)\n",
    "        dist = Dagger.@spawn fit_dist(daily_returnsp1)\n",
    "        push!(res, (;company, daily_returnsp1, dist))\n",
    "    end\n",
    "    mapcols!(x -> fetch.(x), res)\n",
    "    res\n",
    "end"
   ]
  },
  {
   "cell_type": "code",
   "execution_count": 7,
   "id": "7b6eeec8-dccb-4eb2-94ba-364e65499d6f",
   "metadata": {},
   "outputs": [
    {
     "data": {
      "text/plain": [
       "get_stock_data_threads"
      ]
     },
     "execution_count": 7,
     "metadata": {},
     "output_type": "execute_result"
    }
   ],
   "source": [
    "\"\"\"\n",
    "    get_stock_data_threads(companies)\n",
    "\n",
    "Parallize the computations utilizing threads.\n",
    "\"\"\"\n",
    "function get_stock_data_threads(companies)\n",
    "    res = DataFrame(company=String[], daily_returnsp1=Vector{Float64}[], dist=Distribution[])\n",
    "    rl = ReentrantLock()\n",
    "    Threads.@threads for company in companies\n",
    "        daily_returnsp1 = get_daily_returnsp1(company)\n",
    "        dist = fit_dist(daily_returnsp1)\n",
    "        lock(rl) do\n",
    "            push!(res, (;company, daily_returnsp1, dist))\n",
    "        end\n",
    "    end\n",
    "    res\n",
    "end"
   ]
  },
  {
   "cell_type": "code",
   "execution_count": 8,
   "id": "13f85ad1-d0ec-48ac-bd1a-3e99dcf6c882",
   "metadata": {},
   "outputs": [
    {
     "name": "stdout",
     "output_type": "stream",
     "text": [
      "THREADS 1 company\n",
      " 94.067500 seconds (43.20 M allocations: 2.406 GiB, 2.17% gc time, 725.96% compilation time: <1% of which was recompilation)\n",
      "  0.217833 seconds (2.70 k allocations: 136.727 KiB, 1 lock conflict)\n",
      "  0.165312 seconds (2.86 k allocations: 273.367 KiB)\n"
     ]
    }
   ],
   "source": [
    "companies = [\"MSFT\"]\n",
    "println(\"THREADS 1 company\")\n",
    "@time get_stock_data_threads(companies);\n",
    "@time get_stock_data_threads(companies);\n",
    "@time res_threads = get_stock_data_threads(companies);"
   ]
  },
  {
   "cell_type": "code",
   "execution_count": 10,
   "id": "23916ca4-693a-492c-b9c2-4f5fea33aefe",
   "metadata": {},
   "outputs": [
    {
     "name": "stdout",
     "output_type": "stream",
     "text": [
      "DAGGER 1 company\n",
      "  0.111536 seconds (5.06 k allocations: 253.734 KiB, 4 lock conflicts)\n",
      "  0.084687 seconds (5.34 k allocations: 271.656 KiB, 9 lock conflicts, 13.56% compilation time)\n",
      "  0.069304 seconds (5.63 k allocations: 299.773 KiB, 8 lock conflicts)\n",
      "res_threads == res_dagger = true\n"
     ]
    }
   ],
   "source": [
    "println(\"DAGGER 1 company\")\n",
    "@time get_stock_data_dagger(companies);\n",
    "@time get_stock_data_dagger(companies);\n",
    "@time res_dagger = get_stock_data_dagger(companies);\n",
    "@show res_threads == res_dagger;"
   ]
  },
  {
   "cell_type": "code",
   "execution_count": 11,
   "id": "4faf5515-472e-4628-bf9e-a2edef0b33a0",
   "metadata": {},
   "outputs": [
    {
     "name": "stdout",
     "output_type": "stream",
     "text": [
      "THREADS 10 companies\n",
      "  2.952851 seconds (311.10 k allocations: 16.940 MiB, 14 lock conflicts, 453.22% compilation time)\n",
      "  0.820077 seconds (25.28 k allocations: 1.465 MiB, 15 lock conflicts)\n",
      "  0.249381 seconds (24.98 k allocations: 1.326 MiB, 11 lock conflicts)\n"
     ]
    }
   ],
   "source": [
    "companies = [\"MSFT\", \"AAPL\", \"NVDA\", \"AMZN\", \"META\", \"GOOGL\", \"GOOG\", \"LLY\", \"AVGO\",\"JPM\"]\n",
    "println(\"THREADS 10 companies\")\n",
    "@time get_stock_data_threads(companies);\n",
    "@time get_stock_data_threads(companies);\n",
    "@time res_threads2 = get_stock_data_threads(companies);\n"
   ]
  },
  {
   "cell_type": "code",
   "execution_count": 12,
   "id": "8ac2d0e1-829d-40ca-9a6f-8f4ef0b3b6a4",
   "metadata": {},
   "outputs": [
    {
     "name": "stdout",
     "output_type": "stream",
     "text": [
      "DAGGER 10 companies\n",
      "  5.634656 seconds (492.22 k allocations: 25.271 MiB, 0.60% gc time, 67 lock conflicts, 317.25% compilation time: 16% of which was recompilation)\n",
      "  0.257847 seconds (52.41 k allocations: 3.074 MiB, 95 lock conflicts)\n",
      "  0.170920 seconds (50.03 k allocations: 2.605 MiB, 73 lock conflicts)\n",
      "sort(res_threads2, :company) == sort(res_dagger2, :company) = true\n"
     ]
    }
   ],
   "source": [
    "println(\"DAGGER 10 companies\")\n",
    "@time get_stock_data_dagger(companies);\n",
    "@time get_stock_data_dagger(companies);\n",
    "@time res_dagger2 = get_stock_data_dagger(companies);\n",
    "@show sort(res_threads2, :company) == sort(res_dagger2, :company);\n"
   ]
  }
 ],
 "metadata": {
  "kernelspec": {
   "display_name": "Julia 1.11.0-rc1",
   "language": "julia",
   "name": "julia-1.11"
  },
  "language_info": {
   "file_extension": ".jl",
   "mimetype": "application/julia",
   "name": "julia",
   "version": "1.11.0"
  }
 },
 "nbformat": 4,
 "nbformat_minor": 5
}
